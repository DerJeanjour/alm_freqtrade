{
 "cells": [
  {
   "cell_type": "markdown",
   "source": [
    "# Setup"
   ],
   "metadata": {
    "collapsed": false
   },
   "id": "297b8eae287ff7a6"
  },
  {
   "cell_type": "code",
   "execution_count": null,
   "outputs": [],
   "source": [
    "import os\n",
    "from pathlib import Path\n",
    "import pandas as pd\n",
    "import matplotlib.pyplot as plt\n",
    "project_root = \".\"\n",
    "i=0\n",
    "try:\n",
    "    os.chdirdir(project_root)\n",
    "    assert Path('LICENSE').is_file()\n",
    "except:\n",
    "    while i<4 and (not Path('LICENSE').is_file()):\n",
    "        os.chdir(Path(Path.cwd(), '../'))\n",
    "        i+=1\n",
    "    project_root = Path.cwd()\n",
    "print(Path.cwd())"
   ],
   "metadata": {
    "collapsed": false
   },
   "id": "initial_id"
  },
  {
   "cell_type": "code",
   "execution_count": null,
   "outputs": [],
   "source": [
    "from freqtrade.configuration import Configuration\n",
    "config = Configuration.from_files([\"user_data/config.json\"])"
   ],
   "metadata": {
    "collapsed": false
   },
   "id": "3ead795bcdc8388e"
  },
  {
   "cell_type": "markdown",
   "source": [
    "# Backtesting Analysis"
   ],
   "metadata": {
    "collapsed": false
   },
   "id": "782565b1d88eceb0"
  },
  {
   "cell_type": "code",
   "execution_count": null,
   "outputs": [],
   "source": [
    "from freqtrade.data.btanalysis import load_backtest_data, load_backtest_stats\n",
    "backtest_dir = config[\"user_data_dir\"] / \"backtest_results\""
   ],
   "metadata": {
    "collapsed": false
   },
   "id": "4acf14088658482a"
  },
  {
   "cell_type": "code",
   "execution_count": null,
   "outputs": [],
   "source": [
    "stats = load_backtest_stats(backtest_dir)\n",
    "strategy = 'AlmStrategy'\n",
    "for pair_result in stats['strategy'][strategy]['results_per_pair']:\n",
    "    print(pair_result)\n",
    "print(stats['strategy'][strategy]['pairlist'])\n",
    "print(stats['strategy'][strategy]['market_change'])\n",
    "print(stats['strategy'][strategy]['max_drawdown'])\n",
    "print(stats['strategy'][strategy]['drawdown_start'])\n",
    "print(stats['strategy'][strategy]['drawdown_end'])"
   ],
   "metadata": {
    "collapsed": false
   },
   "id": "c6a0887f3e29386a"
  },
  {
   "cell_type": "code",
   "execution_count": null,
   "outputs": [],
   "source": [
    "trades = load_backtest_data(backtest_dir)\n",
    "if trades.empty:\n",
    "    print(\"No trades made!\")\n",
    "else:   \n",
    "    print( trades.groupby(\"pair\")[\"exit_reason\"].value_counts() )"
   ],
   "metadata": {
    "collapsed": false
   },
   "id": "3fb8983a8adf27df"
  },
  {
   "cell_type": "code",
   "execution_count": null,
   "outputs": [],
   "source": [
    "trades.columns.to_list()"
   ],
   "metadata": {
    "collapsed": false
   },
   "id": "43bf751273e74b30"
  },
  {
   "cell_type": "code",
   "execution_count": null,
   "outputs": [],
   "source": [
    "df = trades.copy()\n",
    "\n",
    "column_name_x = 'open_date'\n",
    "column_names_y = ['profit_ratio']\n",
    "\n",
    "df[column_name_x] = pd.to_datetime(df[column_name_x])\n",
    "df.sort_values(by=column_name_x, inplace=True)\n",
    "df.set_index(column_name_x, inplace=True)\n",
    "\n",
    "ax = df[column_names_y].plot()\n",
    "plt.xlabel(column_name_x)\n",
    "ax.legend(column_names_y)\n",
    "plt.show()"
   ],
   "metadata": {
    "collapsed": false
   },
   "id": "56c865df6271c352"
  }
 ],
 "metadata": {
  "kernelspec": {
   "display_name": "Python 3",
   "language": "python",
   "name": "python3"
  },
  "language_info": {
   "codemirror_mode": {
    "name": "ipython",
    "version": 2
   },
   "file_extension": ".py",
   "mimetype": "text/x-python",
   "name": "python",
   "nbconvert_exporter": "python",
   "pygments_lexer": "ipython2",
   "version": "2.7.6"
  }
 },
 "nbformat": 4,
 "nbformat_minor": 5
}
